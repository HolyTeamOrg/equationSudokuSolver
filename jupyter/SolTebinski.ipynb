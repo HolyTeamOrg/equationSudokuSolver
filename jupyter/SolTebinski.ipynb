{
 "cells": [
  {
   "cell_type": "markdown",
   "metadata": {},
   "source": [
    "# Si si prueba Probamos a explicar el codigo en un jupyter notebook"
   ]
  },
  {
   "cell_type": "markdown",
   "metadata": {},
   "source": [
    "## Constructor de permutaciones\n",
    "Resolveremos cuantas permutaciones sin repeticion posibles hay con los numeros 1,2 y 3:"
   ]
  },
  {
   "cell_type": "code",
   "execution_count": 3,
   "metadata": {},
   "outputs": [],
   "source": [
    "from itertools import permutations"
   ]
  },
  {
   "cell_type": "code",
   "execution_count": 4,
   "metadata": {},
   "outputs": [
    {
     "data": {
      "text/plain": [
       "<itertools.permutations at 0x23c841610a0>"
      ]
     },
     "execution_count": 4,
     "metadata": {},
     "output_type": "execute_result"
    }
   ],
   "source": [
    "permutations(range(1,4))"
   ]
  },
  {
   "cell_type": "markdown",
   "metadata": {},
   "source": [
    "`permutations` nos genera un iterador. Hay varias alternativas para extraer las soluciones."
   ]
  },
  {
   "cell_type": "markdown",
   "metadata": {},
   "source": [
    "Usamos el generador de listas `list`"
   ]
  },
  {
   "cell_type": "code",
   "execution_count": 13,
   "metadata": {},
   "outputs": [
    {
     "data": {
      "text/plain": [
       "[(1, 2, 3), (1, 3, 2), (2, 1, 3), (2, 3, 1), (3, 1, 2), (3, 2, 1)]"
      ]
     },
     "execution_count": 13,
     "metadata": {},
     "output_type": "execute_result"
    }
   ],
   "source": [
    "list(permutations(range(1,4)))"
   ]
  },
  {
   "cell_type": "markdown",
   "metadata": {},
   "source": [
    "O para mayor claridad contruimos un bucle `for`. "
   ]
  },
  {
   "cell_type": "code",
   "execution_count": 14,
   "metadata": {},
   "outputs": [
    {
     "name": "stdout",
     "output_type": "stream",
     "text": [
      "(1, 2, 3)\n",
      "(1, 3, 2)\n",
      "(2, 1, 3)\n",
      "(2, 3, 1)\n",
      "(3, 1, 2)\n",
      "(3, 2, 1)\n"
     ]
    }
   ],
   "source": [
    "for per in permutations(range(1,4)):\n",
    "    print(per)"
   ]
  },
  {
   "cell_type": "markdown",
   "metadata": {},
   "source": [
    "Por algun motivo si probamos a crear un list_comprenhension nos da error **SI NO** añadimos los corchetes:"
   ]
  },
  {
   "cell_type": "code",
   "execution_count": 15,
   "metadata": {},
   "outputs": [
    {
     "ename": "SyntaxError",
     "evalue": "invalid syntax (<ipython-input-15-b555e18eda45>, line 1)",
     "output_type": "error",
     "traceback": [
      "\u001b[1;36m  File \u001b[1;32m\"<ipython-input-15-b555e18eda45>\"\u001b[1;36m, line \u001b[1;32m1\u001b[0m\n\u001b[1;33m    print(per) for per in permutations(range(1,4))\u001b[0m\n\u001b[1;37m                 ^\u001b[0m\n\u001b[1;31mSyntaxError\u001b[0m\u001b[1;31m:\u001b[0m invalid syntax\n"
     ]
    }
   ],
   "source": [
    "print(per) for per in permutations(range(1,4))"
   ]
  },
  {
   "cell_type": "markdown",
   "metadata": {},
   "source": [
    "Y si los añadimos nos da un output que no queremos"
   ]
  },
  {
   "cell_type": "code",
   "execution_count": 16,
   "metadata": {},
   "outputs": [
    {
     "name": "stdout",
     "output_type": "stream",
     "text": [
      "(1, 2, 3)\n",
      "(1, 3, 2)\n",
      "(2, 1, 3)\n",
      "(2, 3, 1)\n",
      "(3, 1, 2)\n",
      "(3, 2, 1)\n"
     ]
    },
    {
     "data": {
      "text/plain": [
       "[None, None, None, None, None, None]"
      ]
     },
     "execution_count": 16,
     "metadata": {},
     "output_type": "execute_result"
    }
   ],
   "source": [
    "[print(per) for per in permutations(range(1,4))]"
   ]
  },
  {
   "cell_type": "markdown",
   "metadata": {},
   "source": [
    "Para calcular el número de permutaciones posibles, vamos a contruir una sencilla funcion factorial."
   ]
  },
  {
   "cell_type": "markdown",
   "metadata": {},
   "source": [
    "## Funcion factorial"
   ]
  },
  {
   "cell_type": "code",
   "execution_count": 17,
   "metadata": {},
   "outputs": [],
   "source": [
    "import numpy as np\n",
    "def factorial(n):\n",
    "     return np.prod(range(1,n+1))"
   ]
  },
  {
   "cell_type": "markdown",
   "metadata": {},
   "source": [
    "Para las permutaciones sin repeticion de 1,2 y 3, habrá 3! permutaciones."
   ]
  },
  {
   "cell_type": "code",
   "execution_count": 18,
   "metadata": {},
   "outputs": [
    {
     "data": {
      "text/plain": [
       "6"
      ]
     },
     "execution_count": 18,
     "metadata": {},
     "output_type": "execute_result"
    }
   ],
   "source": [
    "factorial(3)"
   ]
  },
  {
   "cell_type": "markdown",
   "metadata": {},
   "source": [
    "Como en la ecuacion tendremos los numeros del 1 al 9 sin repetirse, será 9! = "
   ]
  },
  {
   "cell_type": "code",
   "execution_count": 19,
   "metadata": {},
   "outputs": [
    {
     "data": {
      "text/plain": [
       "362880"
      ]
     },
     "execution_count": 19,
     "metadata": {},
     "output_type": "execute_result"
    }
   ],
   "source": [
    "factorial(9)"
   ]
  },
  {
   "cell_type": "markdown",
   "metadata": {},
   "source": [
    "## Evaluador de la ecuacion"
   ]
  },
  {
   "cell_type": "markdown",
   "metadata": {},
   "source": [
    "Tendremos que comprobar 362880 permutaciones. Para ello vamos a definir una funcion que evalue la ecuacion dada una combinacion."
   ]
  },
  {
   "cell_type": "code",
   "execution_count": 20,
   "metadata": {},
   "outputs": [],
   "source": [
    "def riddle_equation(coef):\n",
    "       \n",
    "    \"\"\" Calculamos el resultado de esos coeficientes en la ecuacion \"\"\"\n",
    "\n",
    "    try:\n",
    "        eq = (coef[0] + \n",
    "    \t\t\t  13 \n",
    "    \t\t\t  * coef[1]\n",
    "    \t\t\t  / coef[2]\n",
    "    \t\t\t  + coef[3]\n",
    "    \t\t\t  + 12 \n",
    "    \t\t\t  * coef[4] \n",
    "    \t\t\t  - coef[5] \n",
    "    \t\t\t  -11 \n",
    "    \t\t\t  + coef[6]\n",
    "    \t\t\t  * coef[7]\n",
    "    \t\t\t  / coef[8]\n",
    "    \t\t\t  - 10) # = 66\n",
    "        return eq\n",
    "    except ZeroDivisionError:\n",
    "        return float('NaN')"
   ]
  },
  {
   "cell_type": "markdown",
   "metadata": {},
   "source": [
    "Utilizamos la funcion con la primera permutacion. "
   ]
  },
  {
   "cell_type": "code",
   "execution_count": 21,
   "metadata": {},
   "outputs": [
    {
     "name": "stdout",
     "output_type": "stream",
     "text": [
      "(1, 2, 3, 4, 5, 6, 7, 8, 9)\n"
     ]
    },
    {
     "data": {
      "text/plain": [
       "52.88888888888889"
      ]
     },
     "execution_count": 21,
     "metadata": {},
     "output_type": "execute_result"
    }
   ],
   "source": [
    "coef = range(1,10)\n",
    "print(tuple(coef))\n",
    "riddle_equation(coef)"
   ]
  },
  {
   "cell_type": "markdown",
   "metadata": {},
   "source": [
    "Ahora vamos a crear una sencilla funcion para comprobar si el resultado para unso coef dados es 66"
   ]
  },
  {
   "cell_type": "code",
   "execution_count": 22,
   "metadata": {},
   "outputs": [],
   "source": [
    "def check_coef(coef):\n",
    "    \n",
    "    \"\"\" Para coef comprobamos que el resultado de la ecuacion es 66 \"\"\"\n",
    "    \n",
    "    if  riddle_equation(coef) == 66:\n",
    "        return True\n",
    "    else: \n",
    "        return False"
   ]
  },
  {
   "cell_type": "markdown",
   "metadata": {},
   "source": [
    "## Programa principal"
   ]
  },
  {
   "cell_type": "markdown",
   "metadata": {},
   "source": [
    "Ya tenemos todos los preparativos. Ahora solo tenemos que \n",
    "- generar todas las permutaciones posibles\n",
    "- Calcular si el resultado es 66\n",
    "- Almacenar cada solucion. "
   ]
  },
  {
   "cell_type": "code",
   "execution_count": 28,
   "metadata": {},
   "outputs": [],
   "source": [
    "def main(): \n",
    "    solutions = []\n",
    "    for per in permutations(range(1,10)):\n",
    "        coef = tuple(per)\n",
    "        if check_coef(coef):\n",
    "            solutions.append(coef)\n",
    "    return solutions"
   ]
  },
  {
   "cell_type": "code",
   "execution_count": 33,
   "metadata": {},
   "outputs": [],
   "source": [
    "solution = main()"
   ]
  },
  {
   "cell_type": "markdown",
   "metadata": {},
   "source": [
    "Ahora os toca a vosotros @HolyTeam!"
   ]
  },
  {
   "cell_type": "code",
   "execution_count": 34,
   "metadata": {},
   "outputs": [
    {
     "data": {
      "text/plain": [
       "128"
      ]
     },
     "execution_count": 34,
     "metadata": {},
     "output_type": "execute_result"
    }
   ],
   "source": [
    "len(solution)"
   ]
  },
  {
   "cell_type": "code",
   "execution_count": 37,
   "metadata": {},
   "outputs": [
    {
     "name": "stdout",
     "output_type": "stream",
     "text": [
      "(1, 2, 6, 4, 7, 8, 3, 5, 9)\n",
      "(1, 2, 6, 4, 7, 8, 5, 3, 9)\n",
      "(1, 3, 2, 4, 5, 8, 7, 9, 6)\n",
      "(1, 3, 2, 4, 5, 8, 9, 7, 6)\n",
      "(1, 3, 2, 9, 5, 6, 4, 7, 8)\n",
      "(1, 3, 2, 9, 5, 6, 7, 4, 8)\n",
      "(1, 3, 4, 7, 6, 5, 2, 9, 8)\n",
      "(1, 3, 4, 7, 6, 5, 9, 2, 8)\n",
      "(1, 3, 6, 2, 7, 9, 4, 5, 8)\n",
      "(1, 3, 6, 2, 7, 9, 5, 4, 8)\n",
      "(1, 3, 9, 4, 7, 8, 2, 5, 6)\n",
      "(1, 3, 9, 4, 7, 8, 5, 2, 6)\n",
      "(1, 4, 8, 2, 7, 9, 3, 5, 6)\n",
      "(1, 4, 8, 2, 7, 9, 5, 3, 6)\n",
      "(1, 5, 2, 3, 4, 8, 7, 9, 6)\n",
      "(1, 5, 2, 3, 4, 8, 9, 7, 6)\n",
      "(1, 5, 2, 8, 4, 7, 3, 9, 6)\n",
      "(1, 5, 2, 8, 4, 7, 9, 3, 6)\n",
      "(1, 5, 3, 9, 4, 2, 7, 8, 6)\n",
      "(1, 5, 3, 9, 4, 2, 8, 7, 6)\n",
      "(1, 9, 6, 4, 5, 8, 3, 7, 2)\n",
      "(1, 9, 6, 4, 5, 8, 7, 3, 2)\n",
      "(1, 9, 6, 7, 5, 2, 3, 4, 8)\n",
      "(1, 9, 6, 7, 5, 2, 4, 3, 8)\n",
      "(2, 1, 4, 3, 7, 9, 5, 6, 8)\n",
      "(2, 1, 4, 3, 7, 9, 6, 5, 8)\n",
      "(2, 3, 6, 1, 7, 9, 4, 5, 8)\n",
      "(2, 3, 6, 1, 7, 9, 5, 4, 8)\n",
      "(2, 4, 8, 1, 7, 9, 3, 5, 6)\n",
      "(2, 4, 8, 1, 7, 9, 5, 3, 6)\n",
      "(2, 8, 6, 9, 4, 1, 5, 7, 3)\n",
      "(2, 8, 6, 9, 4, 1, 7, 5, 3)\n",
      "(2, 9, 6, 3, 5, 1, 4, 7, 8)\n",
      "(2, 9, 6, 3, 5, 1, 7, 4, 8)\n",
      "(3, 1, 4, 2, 7, 9, 5, 6, 8)\n",
      "(3, 1, 4, 2, 7, 9, 6, 5, 8)\n",
      "(3, 2, 1, 5, 4, 7, 8, 9, 6)\n",
      "(3, 2, 1, 5, 4, 7, 9, 8, 6)\n",
      "(3, 2, 4, 8, 5, 1, 7, 9, 6)\n",
      "(3, 2, 4, 8, 5, 1, 9, 7, 6)\n",
      "(3, 2, 8, 6, 5, 1, 7, 9, 4)\n",
      "(3, 2, 8, 6, 5, 1, 9, 7, 4)\n",
      "(3, 5, 2, 1, 4, 8, 7, 9, 6)\n",
      "(3, 5, 2, 1, 4, 8, 9, 7, 6)\n",
      "(3, 6, 4, 9, 5, 8, 1, 7, 2)\n",
      "(3, 6, 4, 9, 5, 8, 7, 1, 2)\n",
      "(3, 9, 2, 8, 1, 5, 6, 7, 4)\n",
      "(3, 9, 2, 8, 1, 5, 7, 6, 4)\n",
      "(3, 9, 6, 2, 5, 1, 4, 7, 8)\n",
      "(3, 9, 6, 2, 5, 1, 7, 4, 8)\n",
      "(4, 2, 6, 1, 7, 8, 3, 5, 9)\n",
      "(4, 2, 6, 1, 7, 8, 5, 3, 9)\n",
      "(4, 3, 2, 1, 5, 8, 7, 9, 6)\n",
      "(4, 3, 2, 1, 5, 8, 9, 7, 6)\n",
      "(4, 3, 9, 1, 7, 8, 2, 5, 6)\n",
      "(4, 3, 9, 1, 7, 8, 5, 2, 6)\n",
      "(4, 9, 6, 1, 5, 8, 3, 7, 2)\n",
      "(4, 9, 6, 1, 5, 8, 7, 3, 2)\n",
      "(5, 1, 2, 9, 6, 7, 3, 4, 8)\n",
      "(5, 1, 2, 9, 6, 7, 4, 3, 8)\n",
      "(5, 2, 1, 3, 4, 7, 8, 9, 6)\n",
      "(5, 2, 1, 3, 4, 7, 9, 8, 6)\n",
      "(5, 3, 1, 7, 2, 6, 8, 9, 4)\n",
      "(5, 3, 1, 7, 2, 6, 9, 8, 4)\n",
      "(5, 4, 1, 9, 2, 7, 3, 8, 6)\n",
      "(5, 4, 1, 9, 2, 7, 8, 3, 6)\n",
      "(5, 4, 8, 9, 6, 7, 1, 3, 2)\n",
      "(5, 4, 8, 9, 6, 7, 3, 1, 2)\n",
      "(5, 7, 2, 8, 3, 9, 1, 6, 4)\n",
      "(5, 7, 2, 8, 3, 9, 6, 1, 4)\n",
      "(5, 9, 3, 6, 2, 1, 7, 8, 4)\n",
      "(5, 9, 3, 6, 2, 1, 8, 7, 4)\n",
      "(6, 2, 8, 3, 5, 1, 7, 9, 4)\n",
      "(6, 2, 8, 3, 5, 1, 9, 7, 4)\n",
      "(6, 3, 1, 9, 2, 5, 7, 8, 4)\n",
      "(6, 3, 1, 9, 2, 5, 8, 7, 4)\n",
      "(6, 9, 3, 5, 2, 1, 7, 8, 4)\n",
      "(6, 9, 3, 5, 2, 1, 8, 7, 4)\n",
      "(7, 1, 4, 9, 6, 5, 2, 3, 8)\n",
      "(7, 1, 4, 9, 6, 5, 3, 2, 8)\n",
      "(7, 2, 8, 9, 6, 5, 1, 3, 4)\n",
      "(7, 2, 8, 9, 6, 5, 3, 1, 4)\n",
      "(7, 3, 1, 5, 2, 6, 8, 9, 4)\n",
      "(7, 3, 1, 5, 2, 6, 9, 8, 4)\n",
      "(7, 3, 2, 8, 5, 9, 1, 6, 4)\n",
      "(7, 3, 2, 8, 5, 9, 6, 1, 4)\n",
      "(7, 3, 4, 1, 6, 5, 2, 9, 8)\n",
      "(7, 3, 4, 1, 6, 5, 9, 2, 8)\n",
      "(7, 5, 2, 8, 4, 9, 1, 3, 6)\n",
      "(7, 5, 2, 8, 4, 9, 3, 1, 6)\n",
      "(7, 6, 4, 8, 5, 9, 1, 3, 2)\n",
      "(7, 6, 4, 8, 5, 9, 3, 1, 2)\n",
      "(7, 9, 6, 1, 5, 2, 3, 4, 8)\n",
      "(7, 9, 6, 1, 5, 2, 4, 3, 8)\n",
      "(8, 2, 4, 3, 5, 1, 7, 9, 6)\n",
      "(8, 2, 4, 3, 5, 1, 9, 7, 6)\n",
      "(8, 3, 2, 7, 5, 9, 1, 6, 4)\n",
      "(8, 3, 2, 7, 5, 9, 6, 1, 4)\n",
      "(8, 5, 2, 1, 4, 7, 3, 9, 6)\n",
      "(8, 5, 2, 1, 4, 7, 9, 3, 6)\n",
      "(8, 5, 2, 7, 4, 9, 1, 3, 6)\n",
      "(8, 5, 2, 7, 4, 9, 3, 1, 6)\n",
      "(8, 6, 4, 7, 5, 9, 1, 3, 2)\n",
      "(8, 6, 4, 7, 5, 9, 3, 1, 2)\n",
      "(8, 7, 2, 5, 3, 9, 1, 6, 4)\n",
      "(8, 7, 2, 5, 3, 9, 6, 1, 4)\n",
      "(8, 9, 2, 3, 1, 5, 6, 7, 4)\n",
      "(8, 9, 2, 3, 1, 5, 7, 6, 4)\n",
      "(9, 1, 2, 5, 6, 7, 3, 4, 8)\n",
      "(9, 1, 2, 5, 6, 7, 4, 3, 8)\n",
      "(9, 1, 4, 7, 6, 5, 2, 3, 8)\n",
      "(9, 1, 4, 7, 6, 5, 3, 2, 8)\n",
      "(9, 2, 8, 7, 6, 5, 1, 3, 4)\n",
      "(9, 2, 8, 7, 6, 5, 3, 1, 4)\n",
      "(9, 3, 1, 6, 2, 5, 7, 8, 4)\n",
      "(9, 3, 1, 6, 2, 5, 8, 7, 4)\n",
      "(9, 3, 2, 1, 5, 6, 4, 7, 8)\n",
      "(9, 3, 2, 1, 5, 6, 7, 4, 8)\n",
      "(9, 4, 1, 5, 2, 7, 3, 8, 6)\n",
      "(9, 4, 1, 5, 2, 7, 8, 3, 6)\n",
      "(9, 4, 8, 5, 6, 7, 1, 3, 2)\n",
      "(9, 4, 8, 5, 6, 7, 3, 1, 2)\n",
      "(9, 5, 3, 1, 4, 2, 7, 8, 6)\n",
      "(9, 5, 3, 1, 4, 2, 8, 7, 6)\n",
      "(9, 6, 4, 3, 5, 8, 1, 7, 2)\n",
      "(9, 6, 4, 3, 5, 8, 7, 1, 2)\n",
      "(9, 8, 6, 2, 4, 1, 5, 7, 3)\n",
      "(9, 8, 6, 2, 4, 1, 7, 5, 3)\n"
     ]
    }
   ],
   "source": [
    "for sol in solution:\n",
    "    print(sol)"
   ]
  },
  {
   "cell_type": "code",
   "execution_count": null,
   "metadata": {},
   "outputs": [],
   "source": []
  }
 ],
 "metadata": {
  "jupytext": {
   "formats": "ipynb,py"
  },
  "kernelspec": {
   "display_name": "Python 3",
   "language": "python",
   "name": "python3"
  },
  "language_info": {
   "codemirror_mode": {
    "name": "ipython",
    "version": 3
   },
   "file_extension": ".py",
   "mimetype": "text/x-python",
   "name": "python",
   "nbconvert_exporter": "python",
   "pygments_lexer": "ipython3",
   "version": "3.7.1"
  }
 },
 "nbformat": 4,
 "nbformat_minor": 2
}
