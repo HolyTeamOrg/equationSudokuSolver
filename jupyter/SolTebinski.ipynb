{
 "cells": [
  {
   "cell_type": "markdown",
   "metadata": {},
   "source": [
    "# Probamos a explicar el codigo en un jupyter notebook"
   ]
  },
  {
   "cell_type": "markdown",
   "metadata": {},
   "source": [
    "## Constructor de permutaciones\n",
    "Resolveremos cuantas permutaciones sin repeticion posibles hay con los numeros 1,2 y 3:"
   ]
  },
  {
   "cell_type": "code",
   "execution_count": null,
   "metadata": {},
   "outputs": [],
   "source": [
    "from itertools import permutations"
   ]
  },
  {
   "cell_type": "code",
   "execution_count": null,
   "metadata": {},
   "outputs": [],
   "source": [
    "permutations(range(1,4))"
   ]
  },
  {
   "cell_type": "markdown",
   "metadata": {},
   "source": [
    "`permutations` nos genera un iterador. Hay varias alternativas para extraer las soluciones."
   ]
  },
  {
   "cell_type": "markdown",
   "metadata": {},
   "source": [
    "Usamos el generador de listas `list`"
   ]
  },
  {
   "cell_type": "code",
   "execution_count": null,
   "metadata": {},
   "outputs": [],
   "source": [
    "list(permutations(range(1,4)))"
   ]
  },
  {
   "cell_type": "markdown",
   "metadata": {},
   "source": [
    "O para mayor claridad contruimos un bucle `for`. "
   ]
  },
  {
   "cell_type": "code",
   "execution_count": null,
   "metadata": {},
   "outputs": [],
   "source": [
    "for per in permutations(range(1,4)):\n",
    "    print(per)"
   ]
  },
  {
   "cell_type": "markdown",
   "metadata": {},
   "source": [
    "Por algun motivo si probamos a crear un list_comprenhension nos da error **SI NO** añadimos los corchetes:"
   ]
  },
  {
   "cell_type": "code",
   "execution_count": null,
   "metadata": {},
   "outputs": [],
   "source": [
    "print(per) for per in permutations(range(1,4))"
   ]
  },
  {
   "cell_type": "markdown",
   "metadata": {},
   "source": [
    "Y si los añadimos nos da un output que no queremos"
   ]
  },
  {
   "cell_type": "code",
   "execution_count": null,
   "metadata": {},
   "outputs": [],
   "source": [
    "[print(per) for per in permutations(range(1,4))]"
   ]
  },
  {
   "cell_type": "markdown",
   "metadata": {},
   "source": [
    "Para calcular el número de permutaciones posibles, vamos a contruir una sencilla funcion factorial."
   ]
  },
  {
   "cell_type": "markdown",
   "metadata": {},
   "source": [
    "## Funcion factorial"
   ]
  },
  {
   "cell_type": "code",
   "execution_count": null,
   "metadata": {},
   "outputs": [],
   "source": [
    "import numpy as np\n",
    "def factorial(n):\n",
    "     return np.prod(range(1,n+1))"
   ]
  },
  {
   "cell_type": "markdown",
   "metadata": {},
   "source": [
    "Para las permutaciones sin repeticion de 1,2 y 3, habrá 3! permutaciones."
   ]
  },
  {
   "cell_type": "code",
   "execution_count": null,
   "metadata": {},
   "outputs": [],
   "source": [
    "factorial(3)"
   ]
  },
  {
   "cell_type": "markdown",
   "metadata": {},
   "source": [
    "Como en la ecuacion tendremos los numeros del 1 al 9 sin repetirse, será 9! = "
   ]
  },
  {
   "cell_type": "code",
   "execution_count": null,
   "metadata": {},
   "outputs": [],
   "source": [
    "factorial(9)"
   ]
  },
  {
   "cell_type": "markdown",
   "metadata": {},
   "source": [
    "## Evaluador de la ecuacion"
   ]
  },
  {
   "cell_type": "markdown",
   "metadata": {},
   "source": [
    "Tendremos que comprobar 362880 permutaciones. Para ello vamos a definir una funcion que evalue la ecuacion dada una combinacion."
   ]
  },
  {
   "cell_type": "code",
   "execution_count": null,
   "metadata": {},
   "outputs": [],
   "source": [
    "def riddle_equation(coef):\n",
    "       \n",
    "    \"\"\" Calculamos el resultado de esos coeficientes en la ecuacion \"\"\"\n",
    "\n",
    "    try:\n",
    "        eq = (coef[0] + \n",
    "    \t\t\t  13 \n",
    "    \t\t\t  * coef[1]\n",
    "    \t\t\t  / coef[2]\n",
    "    \t\t\t  + coef[3]\n",
    "    \t\t\t  + 12 \n",
    "    \t\t\t  * coef[4] \n",
    "    \t\t\t  - coef[5] \n",
    "    \t\t\t  -11 \n",
    "    \t\t\t  + coef[6]\n",
    "    \t\t\t  * coef[7]\n",
    "    \t\t\t  / coef[8]\n",
    "    \t\t\t  - 10) # = 66\n",
    "        return eq\n",
    "    except ZeroDivisionError:\n",
    "        return float('NaN')"
   ]
  },
  {
   "cell_type": "markdown",
   "metadata": {},
   "source": [
    "Utilizamos la funcion con la primera permutacion. "
   ]
  },
  {
   "cell_type": "code",
   "execution_count": null,
   "metadata": {},
   "outputs": [],
   "source": [
    "coef = range(1,10)\n",
    "print(tuple(coef))\n",
    "riddle_equation(coef)"
   ]
  },
  {
   "cell_type": "markdown",
   "metadata": {},
   "source": [
    "Ahora vamos a crear una sencilla funcion para comprobar si el resultado para unso coef dados es 66"
   ]
  },
  {
   "cell_type": "code",
   "execution_count": null,
   "metadata": {},
   "outputs": [],
   "source": [
    "def check_coef(coef):\n",
    "    \n",
    "    \"\"\" Para coef comprobamos que el resultado de la ecuacion es 66 \"\"\"\n",
    "    \n",
    "    if  riddle_equation(coef) == 66:\n",
    "        return True\n",
    "    else: \n",
    "        return False"
   ]
  },
  {
   "cell_type": "markdown",
   "metadata": {},
   "source": [
    "## Programa principal"
   ]
  },
  {
   "cell_type": "markdown",
   "metadata": {},
   "source": [
    "Ya tenemos todos los preparativos. Ahora solo tenemos que \n",
    "- generar todas las permutaciones posibles\n",
    "- Calcular si el resultado es 66\n",
    "- Almacenar cada solucion. "
   ]
  },
  {
   "cell_type": "code",
   "execution_count": null,
   "metadata": {},
   "outputs": [],
   "source": [
    "def main(): \n",
    "    solutions = []\n",
    "    for per in permutations(range(1,10)):\n",
    "        coef = tuple(per)\n",
    "        if check_coef(coef):\n",
    "            solutions.append(coef)\n",
    "    return solutions"
   ]
  },
  {
   "cell_type": "code",
   "execution_count": null,
   "metadata": {},
   "outputs": [],
   "source": [
    "solution = main()"
   ]
  },
  {
   "cell_type": "markdown",
   "metadata": {},
   "source": [
    "Ahora os toca a vosotros @HolyTeam!"
   ]
  },
  {
   "cell_type": "code",
   "execution_count": null,
   "metadata": {},
   "outputs": [],
   "source": [
    "len(solution)"
   ]
  },
  {
   "cell_type": "code",
   "execution_count": null,
   "metadata": {},
   "outputs": [],
   "source": [
    "for sol in solution:\n",
    "    print(sol)"
   ]
  }
 ],
 "metadata": {
  "jupytext": {
   "formats": "ipynb,py"
  },
  "kernelspec": {
   "display_name": "Python 3",
   "language": "python",
   "name": "python3"
  }
 },
 "nbformat": 4,
 "nbformat_minor": 2
}
